{
  "nbformat": 4,
  "nbformat_minor": 0,
  "metadata": {
    "colab": {
      "provenance": [],
      "authorship_tag": "ABX9TyNYqxrP8d0W2i/dyklXHFbp",
      "include_colab_link": true
    },
    "kernelspec": {
      "name": "python3",
      "display_name": "Python 3"
    },
    "language_info": {
      "name": "python"
    }
  },
  "cells": [
    {
      "cell_type": "markdown",
      "metadata": {
        "id": "view-in-github",
        "colab_type": "text"
      },
      "source": [
        "<a href=\"https://colab.research.google.com/github/kelvo1999/NumPy/blob/main/Introduction_to_numpy.ipynb\" target=\"_parent\"><img src=\"https://colab.research.google.com/assets/colab-badge.svg\" alt=\"Open In Colab\"/></a>"
      ]
    },
    {
      "cell_type": "code",
      "execution_count": 1,
      "metadata": {
        "colab": {
          "base_uri": "https://localhost:8080/"
        },
        "id": "6NNamkdeBmZm",
        "outputId": "6bbd0fe8-ac71-4471-f053-1569070405f2"
      },
      "outputs": [
        {
          "output_type": "execute_result",
          "data": {
            "text/plain": [
              "[2, 4, 6, 8, 10]"
            ]
          },
          "metadata": {},
          "execution_count": 1
        }
      ],
      "source": [
        "# Initialize a Python list\n",
        "python_list = [2, 4, 6, 8, 10]\n",
        "\n",
        "# Display the List\n",
        "python_list"
      ]
    },
    {
      "cell_type": "code",
      "source": [
        "import numpy as np"
      ],
      "metadata": {
        "id": "DMtzF4S_CTjB"
      },
      "execution_count": 2,
      "outputs": []
    },
    {
      "cell_type": "code",
      "source": [
        "# Converting the python_list to a numpy array\n",
        "numpy_array1 = np.array (python_list)\n",
        "\n",
        "# Displays the numpy array\n",
        "numpy_array1"
      ],
      "metadata": {
        "colab": {
          "base_uri": "https://localhost:8080/"
        },
        "id": "ef6R0-SPCdiI",
        "outputId": "5694e20f-ab62-471a-db88-7c6875c5231f"
      },
      "execution_count": 3,
      "outputs": [
        {
          "output_type": "execute_result",
          "data": {
            "text/plain": [
              "array([ 2,  4,  6,  8, 10])"
            ]
          },
          "metadata": {},
          "execution_count": 3
        }
      ]
    },
    {
      "cell_type": "code",
      "source": [
        "# comparing python list and numpy array\n",
        "\n",
        "# Create two python List say 'List_x' and 'List_y'\n",
        "X_list = list(range(100000))\n",
        "Y_list = list(range(100000))"
      ],
      "metadata": {
        "id": "JMP7y48RDF7w"
      },
      "execution_count": 4,
      "outputs": []
    },
    {
      "cell_type": "code",
      "source": [
        "# Import numpy Library\n",
        "import numpy as np\n",
        "# Create two numpy array (say 'X' end 'Y') using above two list\n",
        "X = np.array(X_list)\n",
        "Y = np.array(Y_list)"
      ],
      "metadata": {
        "id": "2y4BQGXgDZFH"
      },
      "execution_count": 5,
      "outputs": []
    },
    {
      "cell_type": "code",
      "source": [
        "# Define a function to calculate sum\n",
        "# using python Lists X_list, Y_list)\n",
        "def pure_python_version():\n",
        "    Z = []\n",
        "    for i in range(len(X_list)):\n",
        "        Z.append(X_list[i] + Y_list[i])"
      ],
      "metadata": {
        "id": "7zbg_jMXDea_"
      },
      "execution_count": 6,
      "outputs": []
    },
    {
      "cell_type": "code",
      "source": [
        "# Define a function that will perform element-wise addition of two NumPy arrays.\n",
        "# Define a function to calculate sum\n",
        "# using numpy arrays (X, Y)\n",
        "def numpy_version():\n",
        "# In numpy we can directly perform\n",
        "# sum element-wise as\n",
        "    Z = X + Y "
      ],
      "metadata": {
        "id": "zQG3rIwZDjgH"
      },
      "execution_count": 8,
      "outputs": []
    },
    {
      "cell_type": "code",
      "source": [
        "# Notice the time taken by both the functions (i.e. list_sum() and numpy_arr_sum()) to perform the same task.\n",
        "# Import Timer class from timeit Library\n",
        "from timeit import Timer"
      ],
      "metadata": {
        "id": "tnGaDbxHDuTX"
      },
      "execution_count": 9,
      "outputs": []
    },
    {
      "cell_type": "code",
      "source": [
        "# You can observe here that the time taken by the python list to do the element-wise sum is much more than the NumPy arrays.\n",
        "\n",
        "timer_obj1 = Timer(\"pure_python_version()\", \n",
        "                   \"from __main__ import pure_python_version\")\n",
        "timer_obj2 = Timer(\"numpy_version()\", \n",
        "                   \"from __main__ import numpy_version\")\n",
        "\n",
        "print(\"Pure python version:\",timer_obj1.timeit(1000))\n",
        "print(\"Numpy version:\",timer_obj2.timeit(1000))"
      ],
      "metadata": {
        "colab": {
          "base_uri": "https://localhost:8080/"
        },
        "id": "8DW8PQXuD-3W",
        "outputId": "bccbdf47-d195-4b86-8435-636b1ddf93d1"
      },
      "execution_count": 10,
      "outputs": [
        {
          "output_type": "stream",
          "name": "stdout",
          "text": [
            "Pure python version: 11.249549860000002\n",
            "Numpy version: 0.04042681700002504\n"
          ]
        }
      ]
    },
    {
      "cell_type": "code",
      "source": [
        "# NumPy array of the first five even numbers\n",
        "# Simplest way is using the list\n",
        "\n",
        "even_numbers = [2,4,6,8,10]\n",
        "\n",
        "# import numpy \n",
        "\n",
        "import numpy as np\n",
        "\n",
        "# in order to display the array successfully , use np.array\n",
        "\n",
        "numpy_even = np.array (even_numbers)\n",
        "\n",
        "numpy_even\n",
        "\n"
      ],
      "metadata": {
        "colab": {
          "base_uri": "https://localhost:8080/"
        },
        "id": "VzemWrYDFvQU",
        "outputId": "6dacf4ab-4a8f-4408-88d7-bdfed453e3f3"
      },
      "execution_count": 2,
      "outputs": [
        {
          "output_type": "execute_result",
          "data": {
            "text/plain": [
              "array([ 2,  4,  6,  8, 10])"
            ]
          },
          "metadata": {},
          "execution_count": 2
        }
      ]
    }
  ]
}
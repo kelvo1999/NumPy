{
  "nbformat": 4,
  "nbformat_minor": 0,
  "metadata": {
    "colab": {
      "provenance": [],
      "authorship_tag": "ABX9TyPVjcqG1JL0DVjVh6C0vpo4",
      "include_colab_link": true
    },
    "kernelspec": {
      "name": "python3",
      "display_name": "Python 3"
    },
    "language_info": {
      "name": "python"
    }
  },
  "cells": [
    {
      "cell_type": "markdown",
      "metadata": {
        "id": "view-in-github",
        "colab_type": "text"
      },
      "source": [
        "<a href=\"https://colab.research.google.com/github/kelvo1999/NumPy/blob/main/Introduction_to_numpy.ipynb\" target=\"_parent\"><img src=\"https://colab.research.google.com/assets/colab-badge.svg\" alt=\"Open In Colab\"/></a>"
      ]
    },
    {
      "cell_type": "code",
      "execution_count": 1,
      "metadata": {
        "colab": {
          "base_uri": "https://localhost:8080/"
        },
        "id": "6NNamkdeBmZm",
        "outputId": "6bbd0fe8-ac71-4471-f053-1569070405f2"
      },
      "outputs": [
        {
          "output_type": "execute_result",
          "data": {
            "text/plain": [
              "[2, 4, 6, 8, 10]"
            ]
          },
          "metadata": {},
          "execution_count": 1
        }
      ],
      "source": [
        "# Initialize a Python list\n",
        "python_list = [2, 4, 6, 8, 10]\n",
        "\n",
        "# Display the List\n",
        "python_list"
      ]
    },
    {
      "cell_type": "code",
      "source": [
        "import numpy as np"
      ],
      "metadata": {
        "id": "DMtzF4S_CTjB"
      },
      "execution_count": 2,
      "outputs": []
    },
    {
      "cell_type": "code",
      "source": [
        "# Converting the python_list to a numpy array\n",
        "numpy_array1 = np.array (python_list)\n",
        "\n",
        "# Displays the numpy array\n",
        "numpy_array1"
      ],
      "metadata": {
        "colab": {
          "base_uri": "https://localhost:8080/"
        },
        "id": "ef6R0-SPCdiI",
        "outputId": "5694e20f-ab62-471a-db88-7c6875c5231f"
      },
      "execution_count": 3,
      "outputs": [
        {
          "output_type": "execute_result",
          "data": {
            "text/plain": [
              "array([ 2,  4,  6,  8, 10])"
            ]
          },
          "metadata": {},
          "execution_count": 3
        }
      ]
    },
    {
      "cell_type": "code",
      "source": [
        "# comparing python list and numpy array\n",
        "\n",
        "# Create two python List say 'List_x' and 'List_y'\n",
        "X_list = list(range(100000))\n",
        "Y_list = list(range(100000))"
      ],
      "metadata": {
        "id": "JMP7y48RDF7w"
      },
      "execution_count": 4,
      "outputs": []
    },
    {
      "cell_type": "code",
      "source": [
        "# Import numpy Library\n",
        "import numpy as np\n",
        "# Create two numpy array (say 'X' end 'Y') using above two list\n",
        "X = np.array(X_list)\n",
        "Y = np.array(Y_list)"
      ],
      "metadata": {
        "id": "2y4BQGXgDZFH"
      },
      "execution_count": 5,
      "outputs": []
    },
    {
      "cell_type": "code",
      "source": [
        "# Define a function to calculate sum\n",
        "# using python Lists X_list, Y_list)\n",
        "def pure_python_version():\n",
        "    Z = []\n",
        "    for i in range(len(X_list)):\n",
        "        Z.append(X_list[i] + Y_list[i])"
      ],
      "metadata": {
        "id": "7zbg_jMXDea_"
      },
      "execution_count": 6,
      "outputs": []
    },
    {
      "cell_type": "code",
      "source": [
        "# Define a function that will perform element-wise addition of two NumPy arrays.\n",
        "# Define a function to calculate sum\n",
        "# using numpy arrays (X, Y)\n",
        "def numpy_version():\n",
        "# In numpy we can directly perform\n",
        "# sum element-wise as\n",
        "    Z = X + Y "
      ],
      "metadata": {
        "id": "zQG3rIwZDjgH"
      },
      "execution_count": 8,
      "outputs": []
    },
    {
      "cell_type": "code",
      "source": [
        "# Notice the time taken by both the functions (i.e. list_sum() and numpy_arr_sum()) to perform the same task.\n",
        "# Import Timer class from timeit Library\n",
        "from timeit import Timer"
      ],
      "metadata": {
        "id": "tnGaDbxHDuTX"
      },
      "execution_count": 9,
      "outputs": []
    },
    {
      "cell_type": "code",
      "source": [
        "# You can observe here that the time taken by the python list to do the element-wise sum is much more than the NumPy arrays.\n",
        "\n",
        "timer_obj1 = Timer(\"pure_python_version()\", \n",
        "                   \"from __main__ import pure_python_version\")\n",
        "timer_obj2 = Timer(\"numpy_version()\", \n",
        "                   \"from __main__ import numpy_version\")\n",
        "\n",
        "print(\"Pure python version:\",timer_obj1.timeit(1000))\n",
        "print(\"Numpy version:\",timer_obj2.timeit(1000))"
      ],
      "metadata": {
        "colab": {
          "base_uri": "https://localhost:8080/"
        },
        "id": "8DW8PQXuD-3W",
        "outputId": "bccbdf47-d195-4b86-8435-636b1ddf93d1"
      },
      "execution_count": 10,
      "outputs": [
        {
          "output_type": "stream",
          "name": "stdout",
          "text": [
            "Pure python version: 11.249549860000002\n",
            "Numpy version: 0.04042681700002504\n"
          ]
        }
      ]
    },
    {
      "cell_type": "code",
      "source": [
        "# NumPy array of the first five even numbers\n",
        "# Simplest way is using the list\n",
        "\n",
        "even_numbers = [2,4,6,8,10]\n",
        "\n",
        "# import numpy \n",
        "\n",
        "import numpy as np\n",
        "\n",
        "# in order to display the array successfully , use np.array\n",
        "\n",
        "numpy_even = np.array (even_numbers)\n",
        "\n",
        "numpy_even\n",
        "\n"
      ],
      "metadata": {
        "colab": {
          "base_uri": "https://localhost:8080/"
        },
        "id": "VzemWrYDFvQU",
        "outputId": "6dacf4ab-4a8f-4408-88d7-bdfed453e3f3"
      },
      "execution_count": 2,
      "outputs": [
        {
          "output_type": "execute_result",
          "data": {
            "text/plain": [
              "array([ 2,  4,  6,  8, 10])"
            ]
          },
          "metadata": {},
          "execution_count": 2
        }
      ]
    },
    {
      "cell_type": "code",
      "source": [
        "# creating a numpy array with python nested list\n",
        "\n",
        "import numpy as np\n",
        "\n",
        "arr = np.array ([[5,6,7],[8,9,10],[11,12,13],[14,15,16]])\n",
        "\n",
        "arr"
      ],
      "metadata": {
        "colab": {
          "base_uri": "https://localhost:8080/"
        },
        "id": "hMHAxRdioIzj",
        "outputId": "d0b26c12-4135-46e0-b97e-098809ae346d"
      },
      "execution_count": 4,
      "outputs": [
        {
          "output_type": "execute_result",
          "data": {
            "text/plain": [
              "array([[ 5,  6,  7],\n",
              "       [ 8,  9, 10],\n",
              "       [11, 12, 13],\n",
              "       [14, 15, 16]])"
            ]
          },
          "metadata": {},
          "execution_count": 4
        }
      ]
    },
    {
      "cell_type": "code",
      "source": [
        "# checking Numpy array size\n",
        "\n",
        "arr.size"
      ],
      "metadata": {
        "colab": {
          "base_uri": "https://localhost:8080/"
        },
        "id": "WSCVQfdto8Fd",
        "outputId": "f732f659-f701-4d6d-8178-eb2f0f07999b"
      },
      "execution_count": 5,
      "outputs": [
        {
          "output_type": "execute_result",
          "data": {
            "text/plain": [
              "12"
            ]
          },
          "metadata": {},
          "execution_count": 5
        }
      ]
    },
    {
      "cell_type": "code",
      "source": [
        "# checking array datatype\n",
        "\n",
        "arr.dtype\n"
      ],
      "metadata": {
        "colab": {
          "base_uri": "https://localhost:8080/"
        },
        "id": "VnGR085opIzC",
        "outputId": "446c092c-df7f-4905-b044-1ab67bc7a5e3"
      },
      "execution_count": 6,
      "outputs": [
        {
          "output_type": "execute_result",
          "data": {
            "text/plain": [
              "dtype('int64')"
            ]
          },
          "metadata": {},
          "execution_count": 6
        }
      ]
    },
    {
      "cell_type": "code",
      "source": [
        "# checking the shape of a numpy array\n",
        "\n",
        "arr.shape"
      ],
      "metadata": {
        "colab": {
          "base_uri": "https://localhost:8080/"
        },
        "id": "6sLd8luDpa_Y",
        "outputId": "2ce6b0ff-6d8e-418c-f94f-a1124a982586"
      },
      "execution_count": 7,
      "outputs": [
        {
          "output_type": "execute_result",
          "data": {
            "text/plain": [
              "(4, 3)"
            ]
          },
          "metadata": {},
          "execution_count": 7
        }
      ]
    },
    {
      "cell_type": "code",
      "source": [
        "# checking the dimensions of a numpy array\n",
        "\n",
        "arr.ndim\n"
      ],
      "metadata": {
        "colab": {
          "base_uri": "https://localhost:8080/"
        },
        "id": "P895_tQhp-io",
        "outputId": "81a8511b-90b5-463e-8389-c41ad15f7304"
      },
      "execution_count": 8,
      "outputs": [
        {
          "output_type": "execute_result",
          "data": {
            "text/plain": [
              "2"
            ]
          },
          "metadata": {},
          "execution_count": 8
        }
      ]
    },
    {
      "cell_type": "code",
      "source": [
        "# checking the type of object\n",
        "\n",
        "type(arr)"
      ],
      "metadata": {
        "colab": {
          "base_uri": "https://localhost:8080/"
        },
        "id": "WXW86T75z8pG",
        "outputId": "d8da2f91-bc2f-4dd0-ab1e-e56087ff347f"
      },
      "execution_count": 10,
      "outputs": [
        {
          "output_type": "execute_result",
          "data": {
            "text/plain": [
              "numpy.ndarray"
            ]
          },
          "metadata": {},
          "execution_count": 10
        }
      ]
    },
    {
      "cell_type": "code",
      "source": [
        "# checking for list\n",
        "\n",
        "vehicles=['bus','nissan','mazda']\n",
        "\n",
        "vehicles\n",
        "\n"
      ],
      "metadata": {
        "colab": {
          "base_uri": "https://localhost:8080/"
        },
        "id": "14hlWKsH0OpM",
        "outputId": "3adbc750-5c5c-4ed3-c2d8-acfc5072f274"
      },
      "execution_count": 13,
      "outputs": [
        {
          "output_type": "execute_result",
          "data": {
            "text/plain": [
              "['bus', 'nissan', 'mazda']"
            ]
          },
          "metadata": {},
          "execution_count": 13
        }
      ]
    },
    {
      "cell_type": "code",
      "source": [
        "type(vehicles)"
      ],
      "metadata": {
        "colab": {
          "base_uri": "https://localhost:8080/"
        },
        "id": "yb-_vzMr0vKj",
        "outputId": "3c233dc6-5c03-4cde-b46e-8924c212ebc4"
      },
      "execution_count": 14,
      "outputs": [
        {
          "output_type": "execute_result",
          "data": {
            "text/plain": [
              "list"
            ]
          },
          "metadata": {},
          "execution_count": 14
        }
      ]
    },
    {
      "cell_type": "code",
      "source": [
        "# creating basic numpy arrays\n",
        "\n",
        "# 1. Array ()\n",
        "\n",
        "arr = np.array ([[1,2,5,7],[5,2,7,6],[6,2,0,8]])\n",
        "\n",
        "arr"
      ],
      "metadata": {
        "colab": {
          "base_uri": "https://localhost:8080/"
        },
        "id": "b1fWj3MA1YMy",
        "outputId": "ce1dd577-90dd-4e4e-bc15-74da3300b888"
      },
      "execution_count": 17,
      "outputs": [
        {
          "output_type": "execute_result",
          "data": {
            "text/plain": [
              "array([[1, 2, 5, 7],\n",
              "       [5, 2, 7, 6],\n",
              "       [6, 2, 0, 8]])"
            ]
          },
          "metadata": {},
          "execution_count": 17
        }
      ]
    },
    {
      "cell_type": "code",
      "source": [
        "# 2. arange ()\n",
        "# this creates a collection of continuous integers\n",
        "\n",
        "arr = np.arange(10)\n",
        "\n",
        "arr"
      ],
      "metadata": {
        "colab": {
          "base_uri": "https://localhost:8080/"
        },
        "id": "SPfzWLsW2SVT",
        "outputId": "bc3f4e21-cf69-416d-dd13-bc5fbd7d14be"
      },
      "execution_count": 19,
      "outputs": [
        {
          "output_type": "execute_result",
          "data": {
            "text/plain": [
              "array([0, 1, 2, 3, 4, 5, 6, 7, 8, 9])"
            ]
          },
          "metadata": {},
          "execution_count": 19
        }
      ]
    },
    {
      "cell_type": "code",
      "source": [
        "# zeros()\n",
        "# if you want to create a collection of zero values, you can use the zeros() function available in NumPy.\n",
        "# The zeros() function creates an n-dimensional array of zeros. If no shape is specified, then it will create a one-dimensional array:\n",
        "# For instance, 5 means it will generate 5 zeros.\n",
        "\n",
        "arr = np.zeros(5)\n",
        "\n",
        "arr"
      ],
      "metadata": {
        "colab": {
          "base_uri": "https://localhost:8080/"
        },
        "id": "3RTGRd2E2tGo",
        "outputId": "b5e48e78-ece0-4c93-ae6f-28cf03baf849"
      },
      "execution_count": 21,
      "outputs": [
        {
          "output_type": "execute_result",
          "data": {
            "text/plain": [
              "array([0., 0., 0., 0., 0.])"
            ]
          },
          "metadata": {},
          "execution_count": 21
        }
      ]
    },
    {
      "cell_type": "code",
      "source": [
        "# ones()\n",
        "# generates an array of ones\n",
        "\n",
        "arr = np.ones(4)\n",
        "\n",
        "arr"
      ],
      "metadata": {
        "colab": {
          "base_uri": "https://localhost:8080/"
        },
        "id": "4SArl54l3GSX",
        "outputId": "281f1c8c-c72b-4d88-89c7-b5601fba4ac8"
      },
      "execution_count": 23,
      "outputs": [
        {
          "output_type": "execute_result",
          "data": {
            "text/plain": [
              "array([1., 1., 1., 1.])"
            ]
          },
          "metadata": {},
          "execution_count": 23
        }
      ]
    },
    {
      "cell_type": "code",
      "source": [
        "# linspace()\n",
        "# linspace() generates values which are equally spaced from each other.\n",
        "\n",
        "arr = np.linspace(start = 5, stop = 10, num=5)\n",
        "\n",
        "arr"
      ],
      "metadata": {
        "colab": {
          "base_uri": "https://localhost:8080/"
        },
        "id": "SGO3b_Go3dIX",
        "outputId": "3e5691a1-0514-471e-bf68-521f71452e89"
      },
      "execution_count": 25,
      "outputs": [
        {
          "output_type": "execute_result",
          "data": {
            "text/plain": [
              "array([ 5.  ,  6.25,  7.5 ,  8.75, 10.  ])"
            ]
          },
          "metadata": {},
          "execution_count": 25
        }
      ]
    }
  ]
}